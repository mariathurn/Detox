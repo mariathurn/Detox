{
 "cells": [
  {
   "cell_type": "code",
   "execution_count": 3,
   "id": "5a699332",
   "metadata": {},
   "outputs": [
    {
     "name": "stderr",
     "output_type": "stream",
     "text": [
      "/opt/homebrew/anaconda3/envs/detox/lib/python3.11/site-packages/tqdm/auto.py:21: TqdmWarning: IProgress not found. Please update jupyter and ipywidgets. See https://ipywidgets.readthedocs.io/en/stable/user_install.html\n",
      "  from .autonotebook import tqdm as notebook_tqdm\n"
     ]
    }
   ],
   "source": [
    "# ✅ Setup: Install these in your environment first\n",
    "# pip install transformers datasets sentence-transformers detoxify\n",
    "from transformers import MT5ForConditionalGeneration, MT5Tokenizer, Seq2SeqTrainingArguments, Seq2SeqTrainer, DataCollatorForSeq2Seq\n",
    "from datasets import load_dataset, DatasetDict\n",
    "from detoxify import Detoxify\n",
    "from sentence_transformers import SentenceTransformer, util\n",
    "import torch\n",
    "import numpy as np"
   ]
  },
  {
   "cell_type": "code",
   "execution_count": 4,
   "id": "77ab5302",
   "metadata": {},
   "outputs": [],
   "source": [
    "# ✅ 1. Load dataset (only English and German)\n",
    "dataset = load_dataset(\"textdetox/multilingual_paradetox\")\n"
   ]
  },
  {
   "cell_type": "code",
   "execution_count": 12,
   "id": "ee30f578",
   "metadata": {},
   "outputs": [
    {
     "name": "stdout",
     "output_type": "stream",
     "text": [
      "Dataset loaded. Available languages: DatasetDict({\n",
      "    en: Dataset({\n",
      "        features: ['toxic_sentence', 'neutral_sentence'],\n",
      "        num_rows: 400\n",
      "    })\n",
      "    ru: Dataset({\n",
      "        features: ['toxic_sentence', 'neutral_sentence'],\n",
      "        num_rows: 400\n",
      "    })\n",
      "    uk: Dataset({\n",
      "        features: ['toxic_sentence', 'neutral_sentence'],\n",
      "        num_rows: 400\n",
      "    })\n",
      "    de: Dataset({\n",
      "        features: ['toxic_sentence', 'neutral_sentence'],\n",
      "        num_rows: 400\n",
      "    })\n",
      "    es: Dataset({\n",
      "        features: ['toxic_sentence', 'neutral_sentence'],\n",
      "        num_rows: 400\n",
      "    })\n",
      "    am: Dataset({\n",
      "        features: ['toxic_sentence', 'neutral_sentence'],\n",
      "        num_rows: 400\n",
      "    })\n",
      "    zh: Dataset({\n",
      "        features: ['toxic_sentence', 'neutral_sentence'],\n",
      "        num_rows: 400\n",
      "    })\n",
      "    ar: Dataset({\n",
      "        features: ['toxic_sentence', 'neutral_sentence'],\n",
      "        num_rows: 400\n",
      "    })\n",
      "    hi: Dataset({\n",
      "        features: ['toxic_sentence', 'neutral_sentence'],\n",
      "        num_rows: 400\n",
      "    })\n",
      "})\n"
     ]
    }
   ],
   "source": [
    "print(\"Dataset loaded. Available languages:\", dataset)"
   ]
  },
  {
   "cell_type": "code",
   "execution_count": 13,
   "id": "4d327f13",
   "metadata": {},
   "outputs": [],
   "source": [
    "# Filter EN and DE data\n",
    "def filter_lang(ds, lang):\n",
    "    return ds.filter(lambda x: x['lang'] == lang)\n",
    "\n",
    "en = dataset['en']\n",
    "de = dataset['de']"
   ]
  },
  {
   "cell_type": "code",
   "execution_count": null,
   "id": "a3c88549",
   "metadata": {},
   "outputs": [],
   "source": []
  },
  {
   "cell_type": "code",
   "execution_count": 2,
   "id": "9073951b",
   "metadata": {},
   "outputs": [
    {
     "name": "stdout",
     "output_type": "stream",
     "text": [
      "True\n"
     ]
    }
   ],
   "source": [
    "import torch\n",
    "print(torch.backends.mps.is_available())"
   ]
  },
  {
   "cell_type": "code",
   "execution_count": 3,
   "id": "86e20c7e",
   "metadata": {},
   "outputs": [
    {
     "ename": "NameError",
     "evalue": "name 'MT5Tokenizer' is not defined",
     "output_type": "error",
     "traceback": [
      "\u001b[31m---------------------------------------------------------------------------\u001b[39m",
      "\u001b[31mNameError\u001b[39m                                 Traceback (most recent call last)",
      "\u001b[36mCell\u001b[39m\u001b[36m \u001b[39m\u001b[32mIn[3]\u001b[39m\u001b[32m, line 2\u001b[39m\n\u001b[32m      1\u001b[39m \u001b[38;5;66;03m# ✅ 2. Prepare tokenizer and model\u001b[39;00m\n\u001b[32m----> \u001b[39m\u001b[32m2\u001b[39m tokenizer = \u001b[43mMT5Tokenizer\u001b[49m.from_pretrained(\u001b[33m\"\u001b[39m\u001b[33mgoogle/mt5-small\u001b[39m\u001b[33m\"\u001b[39m)\n\u001b[32m      3\u001b[39m model = MT5ForConditionalGeneration.from_pretrained(\u001b[33m\"\u001b[39m\u001b[33mgoogle/mt5-small\u001b[39m\u001b[33m\"\u001b[39m)\n\u001b[32m      5\u001b[39m \u001b[38;5;66;03m# ✅ 3. Preprocessing function\u001b[39;00m\n",
      "\u001b[31mNameError\u001b[39m: name 'MT5Tokenizer' is not defined"
     ]
    }
   ],
   "source": [
    "# ✅ 2. Prepare tokenizer and model\n",
    "tokenizer = MT5Tokenizer.from_pretrained(\"google/mt5-small\")\n",
    "model = MT5ForConditionalGeneration.from_pretrained(\"google/mt5-small\")\n",
    "\n",
    "# ✅ 3. Preprocessing function\n",
    "def preprocess(example):\n",
    "    input_text = f\"detoxify: {example['toxic']}\"\n",
    "    target_text = example['neutral']\n",
    "    model_inputs = tokenizer(input_text, max_length=128, truncation=True, padding=\"max_length\")\n",
    "    labels = tokenizer(target_text, max_length=128, truncation=True, padding=\"max_length\")\n",
    "    model_inputs[\"labels\"] = labels[\"input_ids\"]\n",
    "    return model_inputs\n",
    "\n",
    "# ✅ 4. Tokenize datasets\n",
    "en = en.map(preprocess, batched=True)\n",
    "de = de.map(preprocess, batched=True)\n",
    "\n",
    "# Combine for multilingual training\n",
    "train_dataset = en.select(range(2000)).train_test_split(test_size=0.1)\n",
    "train_dataset = DatasetDict({\"train\": train_dataset[\"train\"], \"test\": train_dataset[\"test\"]})\n"
   ]
  },
  {
   "cell_type": "code",
   "execution_count": null,
   "id": "c4c297c2",
   "metadata": {},
   "outputs": [],
   "source": [
    "\n",
    "# ✅ 5. Training setup\n",
    "data_collator = DataCollatorForSeq2Seq(tokenizer, model=model)\n",
    "\n",
    "training_args = Seq2SeqTrainingArguments(\n",
    "    output_dir=\"./results_mt5\",\n",
    "    evaluation_strategy=\"epoch\",\n",
    "    learning_rate=2e-5,\n",
    "    per_device_train_batch_size=8,\n",
    "    per_device_eval_batch_size=8,\n",
    "    num_train_epochs=3,\n",
    "    weight_decay=0.01,\n",
    "    save_total_limit=1,\n",
    "    predict_with_generate=True,\n",
    "    fp16=torch.cuda.is_available(),\n",
    ")\n",
    "\n",
    "trainer = Seq2SeqTrainer(\n",
    "    model=model,\n",
    "    args=training_args,\n",
    "    train_dataset=train_dataset[\"train\"],\n",
    "    eval_dataset=train_dataset[\"test\"],\n",
    "    tokenizer=tokenizer,\n",
    "    data_collator=data_collator,\n",
    ")\n",
    "\n",
    "# ✅ 6. Train!\n",
    "trainer.train()\n",
    "\n",
    "# ✅ 7. Generate predictions\n",
    "def generate_predictions(dataset):\n",
    "    model.eval()\n",
    "    inputs = tokenizer([f\"detoxify: {ex['toxic']}\" for ex in dataset], return_tensors=\"pt\", padding=True, truncation=True).to(model.device)\n",
    "    with torch.no_grad():\n",
    "        outputs = model.generate(**inputs)\n",
    "    return [tokenizer.decode(g, skip_special_tokens=True) for g in outputs]\n",
    "\n",
    "# ✅ 8. Evaluation functions\n",
    "labse = SentenceTransformer(\"sentence-transformers/LaBSE\")\n",
    "def content_similarity(srcs, preds):\n",
    "    embeddings1 = labse.encode(srcs, convert_to_tensor=True)\n",
    "    embeddings2 = labse.encode(preds, convert_to_tensor=True)\n",
    "    return util.cos_sim(embeddings1, embeddings2).diagonal().cpu().numpy()\n",
    "\n",
    "def toxicity_score(preds):\n",
    "    scores = Detoxify(\"original\").predict(preds)\n",
    "    return [1 - score for score in scores['toxicity']]\n",
    "\n",
    "# ✅ Example use\n",
    "sample = en.select(range(10))\n",
    "preds = generate_predictions(sample)\n",
    "content_sim = content_similarity([x['toxic'] for x in sample], preds)\n",
    "tox_score = toxicity_score(preds)\n",
    "\n",
    "for i in range(len(sample)):\n",
    "    print(f\"\\nToxic: {sample[i]['toxic']}\\nDetoxified: {preds[i]}\\nSimilarity: {content_sim[i]:.2f}, Non-toxicity: {tox_score[i]:.2f}\")\n"
   ]
  }
 ],
 "metadata": {
  "kernelspec": {
   "display_name": "detox",
   "language": "python",
   "name": "python3"
  },
  "language_info": {
   "codemirror_mode": {
    "name": "ipython",
    "version": 3
   },
   "file_extension": ".py",
   "mimetype": "text/x-python",
   "name": "python",
   "nbconvert_exporter": "python",
   "pygments_lexer": "ipython3",
   "version": "3.11.11"
  }
 },
 "nbformat": 4,
 "nbformat_minor": 5
}
